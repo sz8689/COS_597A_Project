{
 "cells": [
  {
   "cell_type": "markdown",
   "id": "b63391aa-f9c3-4761-a09e-e2c65f9eea59",
   "metadata": {
    "jp-MarkdownHeadingCollapsed": true
   },
   "source": [
    "## Setup Environment"
   ]
  },
  {
   "cell_type": "code",
   "execution_count": 12,
   "id": "bdea392d-f797-4a98-9800-ec4e57e821ef",
   "metadata": {},
   "outputs": [
    {
     "name": "stdout",
     "output_type": "stream",
     "text": [
      "Requirement already satisfied: pandas in /usr/local/lib/python3.11/site-packages (2.1.3)\n",
      "Requirement already satisfied: nltk in /usr/local/lib/python3.11/site-packages (3.8.1)\n",
      "Requirement already satisfied: gensim in /usr/local/lib/python3.11/site-packages (4.3.2)\n",
      "Collecting scikit-learn\n",
      "  Downloading scikit_learn-1.3.2-cp311-cp311-macosx_10_9_x86_64.whl.metadata (11 kB)\n",
      "Requirement already satisfied: numpy in /usr/local/lib/python3.11/site-packages (1.26.2)\n",
      "Requirement already satisfied: python-dateutil>=2.8.2 in /Users/zhengyuhan/Library/Python/3.11/lib/python/site-packages (from pandas) (2.8.2)\n",
      "Requirement already satisfied: pytz>=2020.1 in /usr/local/lib/python3.11/site-packages (from pandas) (2023.3.post1)\n",
      "Requirement already satisfied: tzdata>=2022.1 in /usr/local/lib/python3.11/site-packages (from pandas) (2023.3)\n",
      "Requirement already satisfied: click in /usr/local/lib/python3.11/site-packages (from nltk) (8.1.7)\n",
      "Requirement already satisfied: joblib in /usr/local/lib/python3.11/site-packages (from nltk) (1.3.2)\n",
      "Requirement already satisfied: regex>=2021.8.3 in /usr/local/lib/python3.11/site-packages (from nltk) (2023.10.3)\n",
      "Requirement already satisfied: tqdm in /usr/local/lib/python3.11/site-packages (from nltk) (4.66.1)\n",
      "Requirement already satisfied: scipy>=1.7.0 in /usr/local/lib/python3.11/site-packages (from gensim) (1.11.4)\n",
      "Requirement already satisfied: smart-open>=1.8.1 in /usr/local/lib/python3.11/site-packages (from gensim) (6.4.0)\n",
      "Collecting threadpoolctl>=2.0.0 (from scikit-learn)\n",
      "  Downloading threadpoolctl-3.2.0-py3-none-any.whl.metadata (10.0 kB)\n",
      "Requirement already satisfied: six>=1.5 in /Users/zhengyuhan/Library/Python/3.11/lib/python/site-packages (from python-dateutil>=2.8.2->pandas) (1.16.0)\n",
      "Downloading scikit_learn-1.3.2-cp311-cp311-macosx_10_9_x86_64.whl (10.1 MB)\n",
      "\u001b[2K   \u001b[90m━━━━━━━━━━━━━━━━━━━━━━━━━━━━━━━━━━━━━━━━\u001b[0m \u001b[32m10.1/10.1 MB\u001b[0m \u001b[31m22.2 MB/s\u001b[0m eta \u001b[36m0:00:00\u001b[0m \u001b[36m0:00:01\u001b[0m\n",
      "\u001b[?25hDownloading threadpoolctl-3.2.0-py3-none-any.whl (15 kB)\n",
      "Installing collected packages: threadpoolctl, scikit-learn\n",
      "Successfully installed scikit-learn-1.3.2 threadpoolctl-3.2.0\n"
     ]
    }
   ],
   "source": [
    "!pip install pandas \\\n",
    "            nltk \\\n",
    "            gensim \\\n",
    "            scikit-learn \\\n",
    "            numpy"
   ]
  },
  {
   "cell_type": "code",
   "execution_count": 23,
   "id": "117e438a",
   "metadata": {},
   "outputs": [
    {
     "name": "stderr",
     "output_type": "stream",
     "text": [
      "[nltk_data] Downloading package punkt to\n",
      "[nltk_data]     /Users/zhengyuhan/nltk_data...\n",
      "[nltk_data]   Unzipping tokenizers/punkt.zip.\n"
     ]
    }
   ],
   "source": [
    "import pandas as pd\n",
    "import nltk\n",
    "nltk.download('punkt')\n",
    "from nltk.tokenize import word_tokenize\n",
    "from gensim.models import Word2Vec\n",
    "from sklearn.preprocessing import StandardScaler\n",
    "import numpy as np"
   ]
  },
  {
   "cell_type": "markdown",
   "id": "db8988dc",
   "metadata": {
    "jp-MarkdownHeadingCollapsed": true
   },
   "source": [
    "## Load dataset of songs"
   ]
  },
  {
   "cell_type": "markdown",
   "id": "952450d4",
   "metadata": {},
   "source": [
    "Dataset: https://www.kaggle.com/datasets/rodolfofigueroa/spotify-12m-songs, an open source dataset on Kaggle. It provides nearly 1.2 million of songs in Spotify. Those songs were retreived by using Spotify API."
   ]
  },
  {
   "cell_type": "code",
   "execution_count": 84,
   "id": "5fa701bc",
   "metadata": {},
   "outputs": [
    {
     "name": "stdout",
     "output_type": "stream",
     "text": [
      "                       id                   name                      album  \\\n",
      "0  7lmeHLHBe4nmXzuXc0HDjk                Testify  The Battle Of Los Angeles   \n",
      "1  1wsRitfRRtWyEapl0q22o8        Guerrilla Radio  The Battle Of Los Angeles   \n",
      "2  1hR0fIFK2qRG3f3RF70pb7       Calm Like a Bomb  The Battle Of Los Angeles   \n",
      "3  2lbASgTSoDO7MTuLAXlTW0              Mic Check  The Battle Of Los Angeles   \n",
      "4  1MQTmpYOZ6fcMQc56Hdo7T  Sleep Now In the Fire  The Battle Of Los Angeles   \n",
      "\n",
      "                 album_id                       artists  \\\n",
      "0  2eia0myWFgoHuttJytCxgX  ['Rage Against The Machine']   \n",
      "1  2eia0myWFgoHuttJytCxgX  ['Rage Against The Machine']   \n",
      "2  2eia0myWFgoHuttJytCxgX  ['Rage Against The Machine']   \n",
      "3  2eia0myWFgoHuttJytCxgX  ['Rage Against The Machine']   \n",
      "4  2eia0myWFgoHuttJytCxgX  ['Rage Against The Machine']   \n",
      "\n",
      "                   artist_ids  track_number  disc_number  explicit  \\\n",
      "0  ['2d0hyoQ5ynDBnkvAbJKORj']             1            1     False   \n",
      "1  ['2d0hyoQ5ynDBnkvAbJKORj']             2            1      True   \n",
      "2  ['2d0hyoQ5ynDBnkvAbJKORj']             3            1     False   \n",
      "3  ['2d0hyoQ5ynDBnkvAbJKORj']             4            1      True   \n",
      "4  ['2d0hyoQ5ynDBnkvAbJKORj']             5            1     False   \n",
      "\n",
      "   danceability  ...  speechiness  acousticness  instrumentalness  liveness  \\\n",
      "0         0.470  ...       0.0727       0.02610          0.000011    0.3560   \n",
      "1         0.599  ...       0.1880       0.01290          0.000071    0.1550   \n",
      "2         0.315  ...       0.4830       0.02340          0.000002    0.1220   \n",
      "3         0.440  ...       0.2370       0.16300          0.000004    0.1210   \n",
      "4         0.426  ...       0.0701       0.00162          0.105000    0.0789   \n",
      "\n",
      "   valence    tempo  duration_ms  time_signature  year  release_date  \n",
      "0    0.503  117.906       210133             4.0  1999    1999-11-02  \n",
      "1    0.489  103.680       206200             4.0  1999    1999-11-02  \n",
      "2    0.370  149.749       298893             4.0  1999    1999-11-02  \n",
      "3    0.574   96.752       213640             4.0  1999    1999-11-02  \n",
      "4    0.539  127.059       205600             4.0  1999    1999-11-02  \n",
      "\n",
      "[5 rows x 24 columns]\n"
     ]
    }
   ],
   "source": [
    "file_path = '../tracks_features.csv'\n",
    "df = pd.read_csv(file_path)\n",
    "print(df.head())"
   ]
  },
  {
   "cell_type": "markdown",
   "id": "b8362903",
   "metadata": {},
   "source": [
    "## Preprocessing data"
   ]
  },
  {
   "cell_type": "markdown",
   "id": "b2faa3b7",
   "metadata": {},
   "source": [
    "We want to perform some operations to select the numeric audio features we want, and also convert those categorical values into numeric one to create the vector embeddings.\n",
    "The selected features includes:\n",
    "- id (not sure if we need this?)\n",
    "- name\n",
    "- artists\n",
    "- danceability\n",
    "- energy\n",
    "- key\n",
    "- loudness\n",
    "- mode\n",
    "- speechiness\n",
    "- acousticness\n",
    "- instrumentalness\n",
    "- liveness\n",
    "- valence\n",
    "- tempo\n",
    "- duration_ms\n",
    "- time_signature\n",
    "- year (do we want this?)"
   ]
  },
  {
   "cell_type": "code",
   "execution_count": 16,
   "id": "69fdde37",
   "metadata": {},
   "outputs": [
    {
     "name": "stdout",
     "output_type": "stream",
     "text": [
      "                       id                   name  \\\n",
      "0  7lmeHLHBe4nmXzuXc0HDjk                Testify   \n",
      "1  1wsRitfRRtWyEapl0q22o8        Guerrilla Radio   \n",
      "2  1hR0fIFK2qRG3f3RF70pb7       Calm Like a Bomb   \n",
      "3  2lbASgTSoDO7MTuLAXlTW0              Mic Check   \n",
      "4  1MQTmpYOZ6fcMQc56Hdo7T  Sleep Now In the Fire   \n",
      "\n",
      "                        artists  danceability  energy  key  loudness  mode  \\\n",
      "0  ['Rage Against The Machine']         0.470   0.978    7    -5.399     1   \n",
      "1  ['Rage Against The Machine']         0.599   0.957   11    -5.764     1   \n",
      "2  ['Rage Against The Machine']         0.315   0.970    7    -5.424     1   \n",
      "3  ['Rage Against The Machine']         0.440   0.967   11    -5.830     0   \n",
      "4  ['Rage Against The Machine']         0.426   0.929    2    -6.729     1   \n",
      "\n",
      "   speechiness  acousticness  instrumentalness  liveness  valence    tempo  \\\n",
      "0       0.0727       0.02610          0.000011    0.3560    0.503  117.906   \n",
      "1       0.1880       0.01290          0.000071    0.1550    0.489  103.680   \n",
      "2       0.4830       0.02340          0.000002    0.1220    0.370  149.749   \n",
      "3       0.2370       0.16300          0.000004    0.1210    0.574   96.752   \n",
      "4       0.0701       0.00162          0.105000    0.0789    0.539  127.059   \n",
      "\n",
      "   duration_ms  time_signature  year  \n",
      "0       210133             4.0  1999  \n",
      "1       206200             4.0  1999  \n",
      "2       298893             4.0  1999  \n",
      "3       213640             4.0  1999  \n",
      "4       205600             4.0  1999  \n"
     ]
    }
   ],
   "source": [
    "selected_features = df.drop(columns=[\"album\", \"album_id\", \"artist_ids\", \"track_number\", \"disc_number\", \"explicit\", \"release_date\"])\n",
    "print(selected_features.head())"
   ]
  },
  {
   "cell_type": "code",
   "execution_count": 17,
   "id": "8518fca1",
   "metadata": {},
   "outputs": [
    {
     "data": {
      "text/plain": [
       "id                  False\n",
       "name                 True\n",
       "artists             False\n",
       "danceability        False\n",
       "energy              False\n",
       "key                 False\n",
       "loudness            False\n",
       "mode                False\n",
       "speechiness         False\n",
       "acousticness        False\n",
       "instrumentalness    False\n",
       "liveness            False\n",
       "valence             False\n",
       "tempo               False\n",
       "duration_ms         False\n",
       "time_signature      False\n",
       "year                False\n",
       "dtype: bool"
      ]
     },
     "execution_count": 17,
     "metadata": {},
     "output_type": "execute_result"
    }
   ],
   "source": [
    "# check if our filted features contains any missing value\n",
    "selected_features.isna().any()"
   ]
  },
  {
   "cell_type": "markdown",
   "id": "24744a77",
   "metadata": {},
   "source": [
    "Some songs have multiple artists, we want to convert them from a list to string.\n",
    "Example: ['Pietro Locatelli', 'Capella Istropolitana', 'Jaroslav Krcek'] to 'Pietro Locatelli, Capella Istropolitana, Jaroslav Krcek'"
   ]
  },
  {
   "cell_type": "code",
   "execution_count": 18,
   "id": "dd0f0535",
   "metadata": {},
   "outputs": [
    {
     "data": {
      "text/plain": [
       "'Pietro Locatelli, Capella Istropolitana, Jaroslav Krcek'"
      ]
     },
     "execution_count": 18,
     "metadata": {},
     "output_type": "execute_result"
    }
   ],
   "source": [
    "def convert_artists_name(artists_list):\n",
    "    items_list = artists_list.strip(\"[]\").replace(\"'\", \"\").split(\", \")\n",
    "    return \", \".join(items_list)\n",
    "\n",
    "selected_features[\"artists\"] = selected_features[\"artists\"].apply(convert_artists_name)\n",
    "selected_features.iloc[1184][\"artists\"]"
   ]
  },
  {
   "cell_type": "code",
   "execution_count": 19,
   "id": "03c504d4",
   "metadata": {},
   "outputs": [
    {
     "name": "stdout",
     "output_type": "stream",
     "text": [
      "Shape before duplicated removal:  (1204025, 17)\n",
      "Shape after duplicated removal:  (1141555, 17)\n"
     ]
    }
   ],
   "source": [
    "# remove duplicated rows by song name and artists name\n",
    "print(\"Shape before duplicated removal: \", selected_features.shape)\n",
    "selected_features = selected_features.drop_duplicates(subset=['name', 'artists'])\n",
    "print(\"Shape after duplicated removal: \", selected_features.shape)"
   ]
  },
  {
   "cell_type": "code",
   "execution_count": 20,
   "id": "3a61573e",
   "metadata": {},
   "outputs": [
    {
     "name": "stdout",
     "output_type": "stream",
     "text": [
      "                       id                   name                   artists  \\\n",
      "0  7lmeHLHBe4nmXzuXc0HDjk                Testify  Rage Against The Machine   \n",
      "1  1wsRitfRRtWyEapl0q22o8        Guerrilla Radio  Rage Against The Machine   \n",
      "2  1hR0fIFK2qRG3f3RF70pb7       Calm Like a Bomb  Rage Against The Machine   \n",
      "3  2lbASgTSoDO7MTuLAXlTW0              Mic Check  Rage Against The Machine   \n",
      "4  1MQTmpYOZ6fcMQc56Hdo7T  Sleep Now In the Fire  Rage Against The Machine   \n",
      "\n",
      "   danceability  energy  key  loudness  mode  speechiness  acousticness  \\\n",
      "0         0.470   0.978    7    -5.399     1       0.0727       0.02610   \n",
      "1         0.599   0.957   11    -5.764     1       0.1880       0.01290   \n",
      "2         0.315   0.970    7    -5.424     1       0.4830       0.02340   \n",
      "3         0.440   0.967   11    -5.830     0       0.2370       0.16300   \n",
      "4         0.426   0.929    2    -6.729     1       0.0701       0.00162   \n",
      "\n",
      "   instrumentalness  liveness  valence    tempo  duration_ms  time_signature  \\\n",
      "0          0.000011    0.3560    0.503  117.906       210133             4.0   \n",
      "1          0.000071    0.1550    0.489  103.680       206200             4.0   \n",
      "2          0.000002    0.1220    0.370  149.749       298893             4.0   \n",
      "3          0.000004    0.1210    0.574   96.752       213640             4.0   \n",
      "4          0.105000    0.0789    0.539  127.059       205600             4.0   \n",
      "\n",
      "   year  \n",
      "0  1999  \n",
      "1  1999  \n",
      "2  1999  \n",
      "3  1999  \n",
      "4  1999  \n",
      "                             id                  name  artists  danceability  \\\n",
      "1204020  0EsMifwUmMfJZxzoMPXJKZ        Gospel of Juke  FVLCRVM         0.264   \n",
      "1204021  2WSc2TB1CSJgGE0PEzVeiu         Prism Visions  FVLCRVM         0.796   \n",
      "1204022  6iProIgUe3ETpO6UT0v5Hg             Tokyo 360  FVLCRVM         0.785   \n",
      "1204023  37B4SXC8uoBsUyKCWnhPfX                Yummy!  FVLCRVM         0.665   \n",
      "1204024  3GgQmOxxLyRoAb4j86zOBX  That's The Way It Is  FVLCRVM         0.736   \n",
      "\n",
      "         energy  key  loudness  mode  speechiness  acousticness  \\\n",
      "1204020   0.966    5    -6.970     0       0.0672       0.00935   \n",
      "1204021   0.701   11    -6.602     0       0.0883       0.10400   \n",
      "1204022   0.796    9    -5.960     0       0.0564       0.03040   \n",
      "1204023   0.856    6    -6.788     0       0.0409       0.00007   \n",
      "1204024   0.708    2    -9.279     0       0.0539       0.01680   \n",
      "\n",
      "         instrumentalness  liveness  valence    tempo  duration_ms  \\\n",
      "1204020           0.00224    0.3370    0.415  159.586       276213   \n",
      "1204021           0.64400    0.0749    0.781  121.980       363179   \n",
      "1204022           0.91800    0.0664    0.467  121.996       385335   \n",
      "1204023           0.77600    0.1170    0.227  124.986       324455   \n",
      "1204024           0.29600    0.2790    0.204  117.991       304982   \n",
      "\n",
      "         time_signature  year  \n",
      "1204020             4.0  2014  \n",
      "1204021             4.0  2014  \n",
      "1204022             4.0  2014  \n",
      "1204023             4.0  2014  \n",
      "1204024             4.0  2014  \n"
     ]
    }
   ],
   "source": [
    "print(selected_features.head())\n",
    "print(selected_features.tail())"
   ]
  },
  {
   "cell_type": "markdown",
   "id": "a4d55eab",
   "metadata": {},
   "source": [
    "## Create vectors/embeddings"
   ]
  },
  {
   "cell_type": "markdown",
   "id": "06ea7fff",
   "metadata": {},
   "source": [
    "We first need to convert those song and artists name into vector. The converted vector representation will have length of 14, so we can combine these with 14 numeric column values. We will combine the song name with artists name to one column for better tokenize"
   ]
  },
  {
   "cell_type": "code",
   "execution_count": 21,
   "id": "5d681e82",
   "metadata": {},
   "outputs": [
    {
     "name": "stdout",
     "output_type": "stream",
     "text": [
      "                       id  danceability  energy  key  loudness  mode  \\\n",
      "0  7lmeHLHBe4nmXzuXc0HDjk         0.470   0.978    7    -5.399     1   \n",
      "1  1wsRitfRRtWyEapl0q22o8         0.599   0.957   11    -5.764     1   \n",
      "2  1hR0fIFK2qRG3f3RF70pb7         0.315   0.970    7    -5.424     1   \n",
      "3  2lbASgTSoDO7MTuLAXlTW0         0.440   0.967   11    -5.830     0   \n",
      "4  1MQTmpYOZ6fcMQc56Hdo7T         0.426   0.929    2    -6.729     1   \n",
      "\n",
      "   speechiness  acousticness  instrumentalness  liveness  valence    tempo  \\\n",
      "0       0.0727       0.02610          0.000011    0.3560    0.503  117.906   \n",
      "1       0.1880       0.01290          0.000071    0.1550    0.489  103.680   \n",
      "2       0.4830       0.02340          0.000002    0.1220    0.370  149.749   \n",
      "3       0.2370       0.16300          0.000004    0.1210    0.574   96.752   \n",
      "4       0.0701       0.00162          0.105000    0.0789    0.539  127.059   \n",
      "\n",
      "   duration_ms  time_signature  year  \\\n",
      "0       210133             4.0  1999   \n",
      "1       206200             4.0  1999   \n",
      "2       298893             4.0  1999   \n",
      "3       213640             4.0  1999   \n",
      "4       205600             4.0  1999   \n",
      "\n",
      "                                     string_summary  \n",
      "0                Testify - Rage Against The Machine  \n",
      "1        Guerrilla Radio - Rage Against The Machine  \n",
      "2       Calm Like a Bomb - Rage Against The Machine  \n",
      "3              Mic Check - Rage Against The Machine  \n",
      "4  Sleep Now In the Fire - Rage Against The Machine  \n"
     ]
    }
   ],
   "source": [
    "selected_features['string_summary'] = selected_features['name'] + ' - ' + selected_features['artists']\n",
    "selected_features['string_summary'] = selected_features['string_summary'].astype(str)\n",
    "\n",
    "# Drop the original 'name' and 'artists' columns\n",
    "selected_features.drop(['name', 'artists'], axis=1, inplace=True)\n",
    "print(selected_features.head())"
   ]
  },
  {
   "cell_type": "code",
   "execution_count": 24,
   "id": "202468e6",
   "metadata": {},
   "outputs": [],
   "source": [
    "# Convert string summaries to lowercase and then tokenize\n",
    "selected_features['tokenized_summary'] = selected_features['string_summary'].apply(lambda x: word_tokenize(x.lower()))"
   ]
  },
  {
   "cell_type": "code",
   "execution_count": 25,
   "id": "27586101",
   "metadata": {},
   "outputs": [],
   "source": [
    "# Define Word2Vec model parameters (may adjust later)\n",
    "vector_size = 14\n",
    "window_size = 5\n",
    "min_count = 1\n",
    "\n",
    "# Train Word2Vec model\n",
    "word2vec_model = Word2Vec(selected_features['tokenized_summary'], vector_size=vector_size, window=window_size, min_count=min_count)"
   ]
  },
  {
   "cell_type": "code",
   "execution_count": 27,
   "id": "c492dde7",
   "metadata": {},
   "outputs": [],
   "source": [
    "# Convert string summaries to vectors\n",
    "def get_summary_vector(summary, model):\n",
    "    summary_vector = [model.wv[word] for word in summary if word in model.wv]\n",
    "    return sum(summary_vector) / len(summary_vector) if summary_vector else [0] * vector_size\n",
    "\n",
    "summary_vector = selected_features['tokenized_summary'].apply(lambda x: get_summary_vector(x, word2vec_model))"
   ]
  },
  {
   "cell_type": "code",
   "execution_count": 28,
   "id": "f182fcca",
   "metadata": {},
   "outputs": [
    {
     "name": "stdout",
     "output_type": "stream",
     "text": [
      "[ 0.7233145   0.47999406 -1.6708161  -1.3737744   1.0735456   1.3275248\n",
      " -0.41009608  0.37724844 -0.14633438 -1.8264831   0.62498635 -0.54044133\n",
      " -2.9819233   2.1566064 ]\n"
     ]
    }
   ],
   "source": [
    "selected_features.drop(['string_summary', 'tokenized_summary'], axis=1, inplace=True)\n",
    "print(summary_vector[0])"
   ]
  },
  {
   "cell_type": "markdown",
   "id": "090f23d1",
   "metadata": {},
   "source": [
    "The numerical columns are audio characteristics of the song, and we want to scale all the values to make it become the embeddings."
   ]
  },
  {
   "cell_type": "code",
   "execution_count": 29,
   "id": "4c4d0240",
   "metadata": {},
   "outputs": [
    {
     "name": "stdout",
     "output_type": "stream",
     "text": [
      "[-0.11476022  1.59348117  0.51038804  0.9231026   0.70123154 -0.10405628\n",
      " -1.0974239  -0.76136317  0.8647423   0.28528598  0.01103847 -0.23857505\n",
      "  0.30032139 -0.70179981]\n"
     ]
    }
   ],
   "source": [
    "# Extract the numeric columns (excluding 'id' and 'summary_vector')\n",
    "numeric_columns = selected_features.drop(['id'], axis=1)\n",
    "\n",
    "# Standardize the numeric columns\n",
    "scaler = StandardScaler()\n",
    "scaled_data = scaler.fit_transform(numeric_columns)\n",
    "\n",
    "# Display the resulting DataFrame\n",
    "print(scaled_data[0])"
   ]
  },
  {
   "cell_type": "markdown",
   "id": "ce7d7421",
   "metadata": {},
   "source": [
    "Finally, we want to merge those summary vector (name & artisits) with scaled vector (audio charactersitcs) to make the embeddings for each song."
   ]
  },
  {
   "cell_type": "code",
   "execution_count": 30,
   "id": "141ad0d3",
   "metadata": {},
   "outputs": [
    {
     "name": "stdout",
     "output_type": "stream",
     "text": [
      "[ 0.72331452  0.47999406 -1.67081606 -1.37377441  1.07354558  1.32752478\n",
      " -0.41009608  0.37724844 -0.14633438 -1.82648313  0.62498635 -0.54044133\n",
      " -2.98192334  2.15660644 -0.11476022  1.59348117  0.51038804  0.9231026\n",
      "  0.70123154 -0.10405628 -1.0974239  -0.76136317  0.8647423   0.28528598\n",
      "  0.01103847 -0.23857505  0.30032139 -0.70179981]\n",
      "1141555 ,  28\n"
     ]
    }
   ],
   "source": [
    "song_embeddings = [\n",
    "    np.concatenate([summary_row, scaled_row])\n",
    "    for summary_row, scaled_row in zip(summary_vector, scaled_data)\n",
    "]\n",
    "print(song_embeddings[0])\n",
    "print(len(song_embeddings), \", \", len(song_embeddings[0]))"
   ]
  },
  {
   "cell_type": "markdown",
   "id": "c0889aa5",
   "metadata": {},
   "source": [
    "Combining those things into our final table for uploading to Pinecone. The table should have two columns, one is id, and another one is song embeddings representation."
   ]
  },
  {
   "cell_type": "code",
   "execution_count": 57,
   "id": "a0a48f92",
   "metadata": {},
   "outputs": [
    {
     "name": "stdout",
     "output_type": "stream",
     "text": [
      "                       id                                             values\n",
      "0  7lmeHLHBe4nmXzuXc0HDjk  [0.7233145236968994, 0.4799940586090088, -1.67...\n",
      "1  1wsRitfRRtWyEapl0q22o8  [0.7651256918907166, 0.7351270318031311, -1.51...\n",
      "2  1hR0fIFK2qRG3f3RF70pb7  [1.1690152883529663, 1.0357924699783325, -1.99...\n",
      "3  2lbASgTSoDO7MTuLAXlTW0  [0.9501161575317383, 0.7967706918716431, -1.63...\n",
      "4  1MQTmpYOZ6fcMQc56Hdo7T  [1.0759998559951782, 0.8795831799507141, -1.78...\n",
      "(1141555, 2)\n"
     ]
    }
   ],
   "source": [
    "embedded_features = selected_features[[\"id\"]].copy()\n",
    "embedded_features.loc[:, \"values\"] = song_embeddings\n",
    "print(embedded_features.head())\n",
    "print(embedded_features.shape)"
   ]
  },
  {
   "cell_type": "code",
   "execution_count": 59,
   "id": "8a3abf69-c5bc-45c0-a187-cb29e204903f",
   "metadata": {},
   "outputs": [
    {
     "data": {
      "text/plain": [
       "28"
      ]
     },
     "execution_count": 59,
     "metadata": {},
     "output_type": "execute_result"
    }
   ],
   "source": [
    "len(embedded_features['values'][0])"
   ]
  },
  {
   "cell_type": "markdown",
   "id": "2a4cd386",
   "metadata": {},
   "source": [
    "## Store embeddings to Pinecone"
   ]
  },
  {
   "cell_type": "code",
   "execution_count": 33,
   "id": "8afb41c5-d7ed-43f8-9e39-0ae2647d9389",
   "metadata": {},
   "outputs": [],
   "source": [
    "!pip install -qU \\\n",
    "  \"pinecone-client[grpc]\"==2.2.1"
   ]
  },
  {
   "cell_type": "code",
   "execution_count": 34,
   "id": "7b50bd69-5857-4090-bc5f-7b064571f623",
   "metadata": {},
   "outputs": [
    {
     "name": "stderr",
     "output_type": "stream",
     "text": [
      "/usr/local/lib/python3.11/site-packages/pinecone/index.py:4: TqdmExperimentalWarning: Using `tqdm.autonotebook.tqdm` in notebook mode. Use `tqdm.tqdm` instead to force console mode (e.g. in jupyter console)\n",
      "  from tqdm.autonotebook import tqdm\n"
     ]
    }
   ],
   "source": [
    "import os\n",
    "import pinecone\n",
    "import time"
   ]
  },
  {
   "cell_type": "code",
   "execution_count": 45,
   "id": "906d0f99-e644-49ab-a5c5-84a4a77aba9e",
   "metadata": {},
   "outputs": [],
   "source": [
    "# PINECONE_API_KEY = os.environ.get('PINECONE_API_KEY') or 'YOUR_API_KEY'\n",
    "# PINECONE_ENV = os.environ.get('PINECONE_ENVIRONMENT') or 'YOUR_ENV'"
   ]
  },
  {
   "cell_type": "code",
   "execution_count": 51,
   "id": "1efad708-1623-4159-a884-c346f8fa9f59",
   "metadata": {},
   "outputs": [],
   "source": [
    "PINECONE_API_KEY = '03367330-5730-4400-ac60-9ab695a047c0'\n",
    "PINECONE_ENV = 'us-east-1-aws'"
   ]
  },
  {
   "cell_type": "code",
   "execution_count": 52,
   "id": "c1443746-5cab-4587-999f-f66be572727f",
   "metadata": {},
   "outputs": [],
   "source": [
    "pinecone.init(\n",
    "    api_key=PINECONE_API_KEY,\n",
    "    environment=PINECONE_ENV\n",
    ")"
   ]
  },
  {
   "cell_type": "code",
   "execution_count": 70,
   "id": "f48ef410-2d53-40c2-8e72-38e2193419ab",
   "metadata": {},
   "outputs": [],
   "source": [
    "index_name = 'music-recommender-test'\n",
    "dim = len(embedded_features['values'][0])"
   ]
  },
  {
   "cell_type": "code",
   "execution_count": 71,
   "id": "677d59af-119e-4682-a782-2dc1c79e097d",
   "metadata": {},
   "outputs": [],
   "source": [
    "# only create index if it doesn't exist\n",
    "if index_name not in pinecone.list_indexes():\n",
    "    pinecone.create_index(\n",
    "        name=index_name,\n",
    "        dimension=dim,\n",
    "        metric='cosine'\n",
    "    )\n",
    "    # wait a moment for the index to be fully initialized\n",
    "    time.sleep(1)\n",
    "\n",
    "# now connect to the index\n",
    "index = pinecone.GRPCIndex(index_name)"
   ]
  },
  {
   "cell_type": "code",
   "execution_count": 72,
   "id": "7d6cf8d0-1a91-4089-9a1e-b9e91816d968",
   "metadata": {},
   "outputs": [
    {
     "data": {
      "text/plain": [
       "{'dimension': 28,\n",
       " 'index_fullness': 0.0,\n",
       " 'namespaces': {},\n",
       " 'total_vector_count': 0}"
      ]
     },
     "execution_count": 72,
     "metadata": {},
     "output_type": "execute_result"
    }
   ],
   "source": [
    "index.describe_index_stats()"
   ]
  },
  {
   "cell_type": "code",
   "execution_count": 77,
   "id": "ccf43655-30cd-439d-a3f8-8e7317597a35",
   "metadata": {},
   "outputs": [],
   "source": [
    "test_data = embedded_features[:10]\n",
    "store_data = embedded_features[10:]"
   ]
  },
  {
   "cell_type": "code",
   "execution_count": 78,
   "id": "783a513e-1bff-40ca-beac-7006e59ec494",
   "metadata": {},
   "outputs": [
    {
     "data": {
      "application/vnd.jupyter.widget-view+json": {
       "model_id": "ffddddef33814c5c9518b3b65e28761b",
       "version_major": 2,
       "version_minor": 0
      },
      "text/plain": [
       "sending upsert requests:   0%|          | 0/1141545 [00:00<?, ?it/s]"
      ]
     },
     "metadata": {},
     "output_type": "display_data"
    },
    {
     "data": {
      "application/vnd.jupyter.widget-view+json": {
       "model_id": "2c34aa4157ac4476921b3e5dc67702a7",
       "version_major": 2,
       "version_minor": 0
      },
      "text/plain": [
       "collecting async responses:   0%|          | 0/1142 [00:00<?, ?it/s]"
      ]
     },
     "metadata": {},
     "output_type": "display_data"
    },
    {
     "data": {
      "text/plain": [
       "upserted_count: 1141545"
      ]
     },
     "execution_count": 78,
     "metadata": {},
     "output_type": "execute_result"
    }
   ],
   "source": [
    "index.upsert_from_dataframe(store_data, batch_size=1000)"
   ]
  },
  {
   "cell_type": "code",
   "execution_count": 79,
   "id": "dfbacf28-2030-437a-a76c-be56bca3008e",
   "metadata": {},
   "outputs": [
    {
     "data": {
      "text/plain": [
       "{'dimension': 28,\n",
       " 'index_fullness': 0.2,\n",
       " 'namespaces': {'': {'vector_count': 1141545}},\n",
       " 'total_vector_count': 1141545}"
      ]
     },
     "execution_count": 79,
     "metadata": {},
     "output_type": "execute_result"
    }
   ],
   "source": [
    "index.describe_index_stats()"
   ]
  },
  {
   "cell_type": "markdown",
   "id": "727237e1",
   "metadata": {},
   "source": [
    "## Search for similar songs"
   ]
  },
  {
   "cell_type": "markdown",
   "id": "57a6e0c9",
   "metadata": {},
   "source": [
    "1. Our personal favofite song (feed 1 get top 10)\n",
    "2. Our listening history (feed 10 get top 10)\n",
    "3. Spotify 2023 top 100 song (most streamed 1 get 10 top)\n",
    "4. Spotify 2023 topp 100 song (feed 10 get top 10)\n",
    "\n",
    "Pinecone search metric "
   ]
  },
  {
   "cell_type": "markdown",
   "id": "63e12815-9efe-4095-9f44-7632c07c9ff3",
   "metadata": {},
   "source": [
    "### Prepare test data"
   ]
  },
  {
   "cell_type": "markdown",
   "id": "27fab682-603e-4b49-9770-2669b3a0ccbf",
   "metadata": {},
   "source": [
    "Get the most streamed songs in 2023 (datasets: https://www.kaggle.com/datasets/nelgiriyewithana/top-spotify-songs-2023/data, https://www.kaggle.com/datasets/amitanshjoshi/spotify-1million-tracks)"
   ]
  },
  {
   "cell_type": "code",
   "execution_count": 115,
   "id": "01230028-a4c6-448a-94e6-980bf1c8e2ad",
   "metadata": {},
   "outputs": [
    {
     "data": {
      "text/plain": [
       "['track_name',\n",
       " 'artist(s)_name',\n",
       " 'artist_count',\n",
       " 'released_year',\n",
       " 'released_month',\n",
       " 'released_day',\n",
       " 'in_spotify_playlists',\n",
       " 'in_spotify_charts',\n",
       " 'streams',\n",
       " 'in_apple_playlists',\n",
       " 'in_apple_charts',\n",
       " 'in_deezer_playlists',\n",
       " 'in_deezer_charts',\n",
       " 'in_shazam_charts',\n",
       " 'bpm',\n",
       " 'key',\n",
       " 'mode',\n",
       " 'danceability_%',\n",
       " 'valence_%',\n",
       " 'energy_%',\n",
       " 'acousticness_%',\n",
       " 'instrumentalness_%',\n",
       " 'liveness_%',\n",
       " 'speechiness_%']"
      ]
     },
     "execution_count": 115,
     "metadata": {},
     "output_type": "execute_result"
    }
   ],
   "source": [
    "file_path_top_songs = '../spotify-2023.csv'\n",
    "top_songs = pd.read_csv(file_path_top_songs, encoding='latin-1')\n",
    "list(top_songs.columns)"
   ]
  },
  {
   "cell_type": "code",
   "execution_count": 98,
   "id": "9c81a32f-7508-47a6-af68-0d285deb3edf",
   "metadata": {},
   "outputs": [
    {
     "name": "stdout",
     "output_type": "stream",
     "text": [
      "   Unnamed: 0    artist_name        track_name                track_id  \\\n",
      "0           0     Jason Mraz   I Won't Give Up  53QF56cjZA9RTuuMZDrSA6   \n",
      "1           1     Jason Mraz  93 Million Miles  1s8tP3jP4GZcyHDsjvw218   \n",
      "2           2  Joshua Hyslop  Do Not Let Me Go  7BRCa8MPiyuvr2VU3O9W0F   \n",
      "3           3   Boyce Avenue          Fast Car  63wsZUhUZLlh1OsyrZq7sz   \n",
      "4           4   Andrew Belle  Sky's Still Blue  6nXIYClvJAfi6ujLiKqEq8   \n",
      "\n",
      "   popularity  year     genre  danceability  energy  key  loudness  mode  \\\n",
      "0          68  2012  acoustic         0.483   0.303    4   -10.058     1   \n",
      "1          50  2012  acoustic         0.572   0.454    3   -10.286     1   \n",
      "2          57  2012  acoustic         0.409   0.234    3   -13.711     1   \n",
      "3          58  2012  acoustic         0.392   0.251   10    -9.845     1   \n",
      "4          54  2012  acoustic         0.430   0.791    6    -5.419     0   \n",
      "\n",
      "   speechiness  acousticness  instrumentalness  liveness  valence    tempo  \\\n",
      "0       0.0429        0.6940          0.000000    0.1150    0.139  133.406   \n",
      "1       0.0258        0.4770          0.000014    0.0974    0.515  140.182   \n",
      "2       0.0323        0.3380          0.000050    0.0895    0.145  139.832   \n",
      "3       0.0363        0.8070          0.000000    0.0797    0.508  204.961   \n",
      "4       0.0302        0.0726          0.019300    0.1100    0.217  171.864   \n",
      "\n",
      "   duration_ms  time_signature  \n",
      "0       240166               3  \n",
      "1       216387               4  \n",
      "2       158960               4  \n",
      "3       304293               4  \n",
      "4       244320               4  \n"
     ]
    }
   ],
   "source": [
    "file_path_all_songs = '../spotify_data.csv'\n",
    "all_songs = pd.read_csv(file_path_all_songs)\n",
    "all_songs = all_songs[['artist_name', 'track_name', 'year','loudness']]"
   ]
  },
  {
   "cell_type": "code",
   "execution_count": 122,
   "id": "1899ae05-4b35-4c10-956f-f6038eaaec36",
   "metadata": {},
   "outputs": [
    {
     "ename": "ValueError",
     "evalue": "The truth value of a Series is ambiguous. Use a.empty, a.bool(), a.item(), a.any() or a.all().",
     "output_type": "error",
     "traceback": [
      "\u001b[0;31m---------------------------------------------------------------------------\u001b[0m",
      "\u001b[0;31mValueError\u001b[0m                                Traceback (most recent call last)",
      "\u001b[0;32m/var/folders/19/_f2tmq1s35s0sxc12yzg4mc00000gn/T/ipykernel_14645/1774716394.py\u001b[0m in \u001b[0;36m?\u001b[0;34m()\u001b[0m\n\u001b[1;32m      6\u001b[0m \u001b[0;32mfor\u001b[0m \u001b[0m_\u001b[0m\u001b[0;34m,\u001b[0m \u001b[0mrow\u001b[0m \u001b[0;32min\u001b[0m \u001b[0mall_songs\u001b[0m\u001b[0;34m.\u001b[0m\u001b[0miterrows\u001b[0m\u001b[0;34m(\u001b[0m\u001b[0;34m)\u001b[0m\u001b[0;34m:\u001b[0m\u001b[0;34m\u001b[0m\u001b[0;34m\u001b[0m\u001b[0m\n\u001b[1;32m      7\u001b[0m     \u001b[0;31m# print(row)\u001b[0m\u001b[0;34m\u001b[0m\u001b[0;34m\u001b[0m\u001b[0m\n\u001b[1;32m      8\u001b[0m     \u001b[0msong\u001b[0m \u001b[0;34m=\u001b[0m \u001b[0mrow\u001b[0m\u001b[0;34m[\u001b[0m\u001b[0;34m'track_name'\u001b[0m\u001b[0;34m]\u001b[0m\u001b[0;34m\u001b[0m\u001b[0;34m\u001b[0m\u001b[0m\n\u001b[1;32m      9\u001b[0m     \u001b[0martist\u001b[0m \u001b[0;34m=\u001b[0m \u001b[0mrow\u001b[0m\u001b[0;34m[\u001b[0m\u001b[0;34m'artist_name'\u001b[0m\u001b[0;34m]\u001b[0m\u001b[0;34m\u001b[0m\u001b[0;34m\u001b[0m\u001b[0m\n\u001b[0;32m---> 10\u001b[0;31m     \u001b[0;32mif\u001b[0m \u001b[0msong\u001b[0m \u001b[0;32min\u001b[0m \u001b[0mtop_song_names\u001b[0m \u001b[0;32mand\u001b[0m \u001b[0mtop_songs\u001b[0m\u001b[0;34m[\u001b[0m\u001b[0mtop_songs\u001b[0m\u001b[0;34m[\u001b[0m\u001b[0;34m'track_name'\u001b[0m\u001b[0;34m]\u001b[0m \u001b[0;34m==\u001b[0m \u001b[0msong\u001b[0m\u001b[0;34m]\u001b[0m\u001b[0;34m[\u001b[0m\u001b[0;34m'artist(s)_name'\u001b[0m\u001b[0;34m]\u001b[0m \u001b[0;34m==\u001b[0m \u001b[0martist\u001b[0m\u001b[0;34m:\u001b[0m\u001b[0;34m\u001b[0m\u001b[0;34m\u001b[0m\u001b[0m\n\u001b[0m\u001b[1;32m     11\u001b[0m         \u001b[0mselected_rows\u001b[0m\u001b[0;34m.\u001b[0m\u001b[0mappend\u001b[0m\u001b[0;34m(\u001b[0m\u001b[0mrow\u001b[0m\u001b[0;34m[\u001b[0m\u001b[0;34m'track_id'\u001b[0m\u001b[0;34m]\u001b[0m\u001b[0;34m)\u001b[0m\u001b[0;34m\u001b[0m\u001b[0;34m\u001b[0m\u001b[0m\n\u001b[1;32m     12\u001b[0m \u001b[0;34m\u001b[0m\u001b[0m\n\u001b[1;32m     13\u001b[0m \u001b[0;34m\u001b[0m\u001b[0m\n",
      "\u001b[0;32m/usr/local/lib/python3.11/site-packages/pandas/core/generic.py\u001b[0m in \u001b[0;36m?\u001b[0;34m(self)\u001b[0m\n\u001b[1;32m   1517\u001b[0m     \u001b[0;34m@\u001b[0m\u001b[0mfinal\u001b[0m\u001b[0;34m\u001b[0m\u001b[0;34m\u001b[0m\u001b[0m\n\u001b[1;32m   1518\u001b[0m     \u001b[0;32mdef\u001b[0m \u001b[0m__nonzero__\u001b[0m\u001b[0;34m(\u001b[0m\u001b[0mself\u001b[0m\u001b[0;34m)\u001b[0m \u001b[0;34m->\u001b[0m \u001b[0mNoReturn\u001b[0m\u001b[0;34m:\u001b[0m\u001b[0;34m\u001b[0m\u001b[0;34m\u001b[0m\u001b[0m\n\u001b[0;32m-> 1519\u001b[0;31m         raise ValueError(\n\u001b[0m\u001b[1;32m   1520\u001b[0m             \u001b[0;34mf\"The truth value of a {type(self).__name__} is ambiguous. \"\u001b[0m\u001b[0;34m\u001b[0m\u001b[0;34m\u001b[0m\u001b[0m\n\u001b[1;32m   1521\u001b[0m             \u001b[0;34m\"Use a.empty, a.bool(), a.item(), a.any() or a.all().\"\u001b[0m\u001b[0;34m\u001b[0m\u001b[0;34m\u001b[0m\u001b[0m\n\u001b[1;32m   1522\u001b[0m         )\n",
      "\u001b[0;31mValueError\u001b[0m: The truth value of a Series is ambiguous. Use a.empty, a.bool(), a.item(), a.any() or a.all()."
     ]
    }
   ],
   "source": [
    "top_song_names = top_songs['track_name'].tolist()\n",
    "top_song_artists = top_songs['artist(s)_name'].tolist()\n",
    "# top_song_names\n",
    "# top_song_artists\n",
    "selected_rows = []\n",
    "for _, row in all_songs.iterrows():\n",
    "    # print(row)\n",
    "    song = row['track_name']\n",
    "    artist = row['artist_name']\n",
    "    if song in top_song_names:\n",
    "        artist_top = top_songs[top_songs['track_name'] == song]['artist(s)_name']\n",
    "        print(song, artist_top, artist)\n",
    "        if artist_top\n",
    "        # selected_rows.append(row['track_id'])\n",
    "        \n",
    "        "
   ]
  },
  {
   "cell_type": "code",
   "execution_count": null,
   "id": "9e973a2e-2422-44bf-971f-b45cbd8033b4",
   "metadata": {},
   "outputs": [],
   "source": [
    "id (not sure if we need this?)\n",
    "name\n",
    "artists\n",
    "danceability\n",
    "energy\n",
    "key\n",
    "loudness\n",
    "mode\n",
    "speechiness\n",
    "acousticness\n",
    "instrumentalness\n",
    "liveness\n",
    "valence\n",
    "tempo\n",
    "duration_ms\n",
    "time_signature\n",
    "year (do we want this?)"
   ]
  },
  {
   "cell_type": "markdown",
   "id": "51da7d51-13ca-4859-a189-c1ddcb8e536b",
   "metadata": {
    "jp-MarkdownHeadingCollapsed": true
   },
   "source": [
    "### Query"
   ]
  },
  {
   "cell_type": "code",
   "execution_count": 80,
   "id": "c7c83991-3629-4013-9613-5845c29b501f",
   "metadata": {},
   "outputs": [
    {
     "data": {
      "text/html": [
       "<div>\n",
       "<style scoped>\n",
       "    .dataframe tbody tr th:only-of-type {\n",
       "        vertical-align: middle;\n",
       "    }\n",
       "\n",
       "    .dataframe tbody tr th {\n",
       "        vertical-align: top;\n",
       "    }\n",
       "\n",
       "    .dataframe thead th {\n",
       "        text-align: right;\n",
       "    }\n",
       "</style>\n",
       "<table border=\"1\" class=\"dataframe\">\n",
       "  <thead>\n",
       "    <tr style=\"text-align: right;\">\n",
       "      <th></th>\n",
       "      <th>id</th>\n",
       "      <th>values</th>\n",
       "    </tr>\n",
       "  </thead>\n",
       "  <tbody>\n",
       "    <tr>\n",
       "      <th>0</th>\n",
       "      <td>7lmeHLHBe4nmXzuXc0HDjk</td>\n",
       "      <td>[0.7233145236968994, 0.4799940586090088, -1.67...</td>\n",
       "    </tr>\n",
       "    <tr>\n",
       "      <th>1</th>\n",
       "      <td>1wsRitfRRtWyEapl0q22o8</td>\n",
       "      <td>[0.7651256918907166, 0.7351270318031311, -1.51...</td>\n",
       "    </tr>\n",
       "    <tr>\n",
       "      <th>2</th>\n",
       "      <td>1hR0fIFK2qRG3f3RF70pb7</td>\n",
       "      <td>[1.1690152883529663, 1.0357924699783325, -1.99...</td>\n",
       "    </tr>\n",
       "    <tr>\n",
       "      <th>3</th>\n",
       "      <td>2lbASgTSoDO7MTuLAXlTW0</td>\n",
       "      <td>[0.9501161575317383, 0.7967706918716431, -1.63...</td>\n",
       "    </tr>\n",
       "    <tr>\n",
       "      <th>4</th>\n",
       "      <td>1MQTmpYOZ6fcMQc56Hdo7T</td>\n",
       "      <td>[1.0759998559951782, 0.8795831799507141, -1.78...</td>\n",
       "    </tr>\n",
       "    <tr>\n",
       "      <th>5</th>\n",
       "      <td>2LXPNLSMAauNJfnC58lSqY</td>\n",
       "      <td>[1.2189991474151611, 0.6400238275527954, -2.23...</td>\n",
       "    </tr>\n",
       "    <tr>\n",
       "      <th>6</th>\n",
       "      <td>3moeHk8eIajvUEzVocXukf</td>\n",
       "      <td>[0.1430703103542328, 0.9378200173377991, -2.30...</td>\n",
       "    </tr>\n",
       "    <tr>\n",
       "      <th>7</th>\n",
       "      <td>4llunZfVXv3NvUzXVB3VVL</td>\n",
       "      <td>[0.6131278872489929, -0.008440256118774414, -0...</td>\n",
       "    </tr>\n",
       "    <tr>\n",
       "      <th>8</th>\n",
       "      <td>21Mq0NzFoVRvOmLTOnJjng</td>\n",
       "      <td>[1.0829685926437378, 0.1389971375465393, -0.98...</td>\n",
       "    </tr>\n",
       "    <tr>\n",
       "      <th>9</th>\n",
       "      <td>6s2FgJbnnMwFTpWJZzvb6z</td>\n",
       "      <td>[0.38173824548721313, 0.20188066363334656, -1....</td>\n",
       "    </tr>\n",
       "  </tbody>\n",
       "</table>\n",
       "</div>"
      ],
      "text/plain": [
       "                       id                                             values\n",
       "0  7lmeHLHBe4nmXzuXc0HDjk  [0.7233145236968994, 0.4799940586090088, -1.67...\n",
       "1  1wsRitfRRtWyEapl0q22o8  [0.7651256918907166, 0.7351270318031311, -1.51...\n",
       "2  1hR0fIFK2qRG3f3RF70pb7  [1.1690152883529663, 1.0357924699783325, -1.99...\n",
       "3  2lbASgTSoDO7MTuLAXlTW0  [0.9501161575317383, 0.7967706918716431, -1.63...\n",
       "4  1MQTmpYOZ6fcMQc56Hdo7T  [1.0759998559951782, 0.8795831799507141, -1.78...\n",
       "5  2LXPNLSMAauNJfnC58lSqY  [1.2189991474151611, 0.6400238275527954, -2.23...\n",
       "6  3moeHk8eIajvUEzVocXukf  [0.1430703103542328, 0.9378200173377991, -2.30...\n",
       "7  4llunZfVXv3NvUzXVB3VVL  [0.6131278872489929, -0.008440256118774414, -0...\n",
       "8  21Mq0NzFoVRvOmLTOnJjng  [1.0829685926437378, 0.1389971375465393, -0.98...\n",
       "9  6s2FgJbnnMwFTpWJZzvb6z  [0.38173824548721313, 0.20188066363334656, -1...."
      ]
     },
     "execution_count": 80,
     "metadata": {},
     "output_type": "execute_result"
    }
   ],
   "source": [
    "test_data"
   ]
  },
  {
   "cell_type": "code",
   "execution_count": 81,
   "id": "5eb10fb6-26d8-4b36-a567-7a6e204bfcf9",
   "metadata": {},
   "outputs": [
    {
     "data": {
      "text/plain": [
       "{'matches': [{'id': '5S4fFQBvN1DigjO6XqRM16',\n",
       "              'metadata': {},\n",
       "              'score': 0.962494,\n",
       "              'sparse_values': {'indices': [], 'values': []},\n",
       "              'values': []},\n",
       "             {'id': '4ARUrlst7m0CLVMOyFg6XZ',\n",
       "              'metadata': {},\n",
       "              'score': 0.9586928,\n",
       "              'sparse_values': {'indices': [], 'values': []},\n",
       "              'values': []},\n",
       "             {'id': '5mhW5HmdaH1c2Eyor47W80',\n",
       "              'metadata': {},\n",
       "              'score': 0.9574417,\n",
       "              'sparse_values': {'indices': [], 'values': []},\n",
       "              'values': []},\n",
       "             {'id': '3yjyLEq4lSr0CbZuUc2uZr',\n",
       "              'metadata': {},\n",
       "              'score': 0.9555039,\n",
       "              'sparse_values': {'indices': [], 'values': []},\n",
       "              'values': []},\n",
       "             {'id': '0paR0kCOxCUKqmtNDHjPaL',\n",
       "              'metadata': {},\n",
       "              'score': 0.94905937,\n",
       "              'sparse_values': {'indices': [], 'values': []},\n",
       "              'values': []}],\n",
       " 'namespace': ''}"
      ]
     },
     "execution_count": 81,
     "metadata": {},
     "output_type": "execute_result"
    }
   ],
   "source": [
    "# query with song \"7lmeHLHBe4nmXzuXc0HDjk\"\n",
    "\n",
    "# create the query vector\n",
    "xq = test_data['values'][0]\n",
    "\n",
    "# now query\n",
    "xc = index.query(xq, top_k=5, include_metadata=True)\n",
    "xc"
   ]
  },
  {
   "cell_type": "code",
   "execution_count": 85,
   "id": "29ce72e9-21de-4f91-b61c-850a38b328a0",
   "metadata": {},
   "outputs": [
    {
     "data": {
      "text/html": [
       "<div>\n",
       "<style scoped>\n",
       "    .dataframe tbody tr th:only-of-type {\n",
       "        vertical-align: middle;\n",
       "    }\n",
       "\n",
       "    .dataframe tbody tr th {\n",
       "        vertical-align: top;\n",
       "    }\n",
       "\n",
       "    .dataframe thead th {\n",
       "        text-align: right;\n",
       "    }\n",
       "</style>\n",
       "<table border=\"1\" class=\"dataframe\">\n",
       "  <thead>\n",
       "    <tr style=\"text-align: right;\">\n",
       "      <th></th>\n",
       "      <th>id</th>\n",
       "      <th>name</th>\n",
       "      <th>album</th>\n",
       "      <th>album_id</th>\n",
       "      <th>artists</th>\n",
       "      <th>artist_ids</th>\n",
       "      <th>track_number</th>\n",
       "      <th>disc_number</th>\n",
       "      <th>explicit</th>\n",
       "      <th>danceability</th>\n",
       "      <th>...</th>\n",
       "      <th>speechiness</th>\n",
       "      <th>acousticness</th>\n",
       "      <th>instrumentalness</th>\n",
       "      <th>liveness</th>\n",
       "      <th>valence</th>\n",
       "      <th>tempo</th>\n",
       "      <th>duration_ms</th>\n",
       "      <th>time_signature</th>\n",
       "      <th>year</th>\n",
       "      <th>release_date</th>\n",
       "    </tr>\n",
       "  </thead>\n",
       "  <tbody>\n",
       "    <tr>\n",
       "      <th>802610</th>\n",
       "      <td>5S4fFQBvN1DigjO6XqRM16</td>\n",
       "      <td>Projecting Power</td>\n",
       "      <td>Emo Diaries - Chapter Ten - The Hope I Hide In...</td>\n",
       "      <td>13W3r4Kq7uMOA94IXEoEYk</td>\n",
       "      <td>['The Holiday Plan']</td>\n",
       "      <td>['2Y7RpEHJ35w7FjeLZIefGd']</td>\n",
       "      <td>3</td>\n",
       "      <td>1</td>\n",
       "      <td>False</td>\n",
       "      <td>0.454</td>\n",
       "      <td>...</td>\n",
       "      <td>0.0525</td>\n",
       "      <td>0.103</td>\n",
       "      <td>0.0247</td>\n",
       "      <td>0.43</td>\n",
       "      <td>0.539</td>\n",
       "      <td>110.937</td>\n",
       "      <td>210853</td>\n",
       "      <td>4.0</td>\n",
       "      <td>2004</td>\n",
       "      <td>2004-04-27</td>\n",
       "    </tr>\n",
       "  </tbody>\n",
       "</table>\n",
       "<p>1 rows × 24 columns</p>\n",
       "</div>"
      ],
      "text/plain": [
       "                            id              name  \\\n",
       "802610  5S4fFQBvN1DigjO6XqRM16  Projecting Power   \n",
       "\n",
       "                                                    album  \\\n",
       "802610  Emo Diaries - Chapter Ten - The Hope I Hide In...   \n",
       "\n",
       "                      album_id               artists  \\\n",
       "802610  13W3r4Kq7uMOA94IXEoEYk  ['The Holiday Plan']   \n",
       "\n",
       "                        artist_ids  track_number  disc_number  explicit  \\\n",
       "802610  ['2Y7RpEHJ35w7FjeLZIefGd']             3            1     False   \n",
       "\n",
       "        danceability  ...  speechiness  acousticness  instrumentalness  \\\n",
       "802610         0.454  ...       0.0525         0.103            0.0247   \n",
       "\n",
       "        liveness  valence    tempo  duration_ms  time_signature  year  \\\n",
       "802610      0.43    0.539  110.937       210853             4.0  2004   \n",
       "\n",
       "        release_date  \n",
       "802610    2004-04-27  \n",
       "\n",
       "[1 rows x 24 columns]"
      ]
     },
     "execution_count": 85,
     "metadata": {},
     "output_type": "execute_result"
    }
   ],
   "source": [
    "df[df['id'] == '5S4fFQBvN1DigjO6XqRM16']"
   ]
  },
  {
   "cell_type": "code",
   "execution_count": 86,
   "id": "8ffecb1a-8e73-4ee6-b26b-b28c1ce9c88b",
   "metadata": {},
   "outputs": [
    {
     "data": {
      "text/html": [
       "<div>\n",
       "<style scoped>\n",
       "    .dataframe tbody tr th:only-of-type {\n",
       "        vertical-align: middle;\n",
       "    }\n",
       "\n",
       "    .dataframe tbody tr th {\n",
       "        vertical-align: top;\n",
       "    }\n",
       "\n",
       "    .dataframe thead th {\n",
       "        text-align: right;\n",
       "    }\n",
       "</style>\n",
       "<table border=\"1\" class=\"dataframe\">\n",
       "  <thead>\n",
       "    <tr style=\"text-align: right;\">\n",
       "      <th></th>\n",
       "      <th>id</th>\n",
       "      <th>name</th>\n",
       "      <th>album</th>\n",
       "      <th>album_id</th>\n",
       "      <th>artists</th>\n",
       "      <th>artist_ids</th>\n",
       "      <th>track_number</th>\n",
       "      <th>disc_number</th>\n",
       "      <th>explicit</th>\n",
       "      <th>danceability</th>\n",
       "      <th>...</th>\n",
       "      <th>speechiness</th>\n",
       "      <th>acousticness</th>\n",
       "      <th>instrumentalness</th>\n",
       "      <th>liveness</th>\n",
       "      <th>valence</th>\n",
       "      <th>tempo</th>\n",
       "      <th>duration_ms</th>\n",
       "      <th>time_signature</th>\n",
       "      <th>year</th>\n",
       "      <th>release_date</th>\n",
       "    </tr>\n",
       "  </thead>\n",
       "  <tbody>\n",
       "    <tr>\n",
       "      <th>0</th>\n",
       "      <td>7lmeHLHBe4nmXzuXc0HDjk</td>\n",
       "      <td>Testify</td>\n",
       "      <td>The Battle Of Los Angeles</td>\n",
       "      <td>2eia0myWFgoHuttJytCxgX</td>\n",
       "      <td>['Rage Against The Machine']</td>\n",
       "      <td>['2d0hyoQ5ynDBnkvAbJKORj']</td>\n",
       "      <td>1</td>\n",
       "      <td>1</td>\n",
       "      <td>False</td>\n",
       "      <td>0.47</td>\n",
       "      <td>...</td>\n",
       "      <td>0.0727</td>\n",
       "      <td>0.0261</td>\n",
       "      <td>0.000011</td>\n",
       "      <td>0.356</td>\n",
       "      <td>0.503</td>\n",
       "      <td>117.906</td>\n",
       "      <td>210133</td>\n",
       "      <td>4.0</td>\n",
       "      <td>1999</td>\n",
       "      <td>1999-11-02</td>\n",
       "    </tr>\n",
       "  </tbody>\n",
       "</table>\n",
       "<p>1 rows × 24 columns</p>\n",
       "</div>"
      ],
      "text/plain": [
       "                       id     name                      album  \\\n",
       "0  7lmeHLHBe4nmXzuXc0HDjk  Testify  The Battle Of Los Angeles   \n",
       "\n",
       "                 album_id                       artists  \\\n",
       "0  2eia0myWFgoHuttJytCxgX  ['Rage Against The Machine']   \n",
       "\n",
       "                   artist_ids  track_number  disc_number  explicit  \\\n",
       "0  ['2d0hyoQ5ynDBnkvAbJKORj']             1            1     False   \n",
       "\n",
       "   danceability  ...  speechiness  acousticness  instrumentalness  liveness  \\\n",
       "0          0.47  ...       0.0727        0.0261          0.000011     0.356   \n",
       "\n",
       "   valence    tempo  duration_ms  time_signature  year  release_date  \n",
       "0    0.503  117.906       210133             4.0  1999    1999-11-02  \n",
       "\n",
       "[1 rows x 24 columns]"
      ]
     },
     "execution_count": 86,
     "metadata": {},
     "output_type": "execute_result"
    }
   ],
   "source": [
    "df[df['id'] == '7lmeHLHBe4nmXzuXc0HDjk']"
   ]
  },
  {
   "cell_type": "code",
   "execution_count": null,
   "id": "6d891427-c10c-410b-9c28-a9af1f45be7c",
   "metadata": {},
   "outputs": [],
   "source": []
  }
 ],
 "metadata": {
  "kernelspec": {
   "display_name": "Python 3 (ipykernel)",
   "language": "python",
   "name": "python3"
  },
  "language_info": {
   "codemirror_mode": {
    "name": "ipython",
    "version": 3
   },
   "file_extension": ".py",
   "mimetype": "text/x-python",
   "name": "python",
   "nbconvert_exporter": "python",
   "pygments_lexer": "ipython3",
   "version": "3.11.2"
  }
 },
 "nbformat": 4,
 "nbformat_minor": 5
}
