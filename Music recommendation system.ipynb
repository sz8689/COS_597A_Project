{
 "cells": [
  {
   "cell_type": "code",
   "execution_count": 17,
   "id": "117e438a",
   "metadata": {},
   "outputs": [],
   "source": [
    "import pandas as pd\n",
    "import nltk\n",
    "# nltk.download('punkt')\n",
    "from nltk.tokenize import word_tokenize\n",
    "from gensim.models import Word2Vec\n",
    "from sklearn.preprocessing import StandardScaler\n",
    "import numpy as np"
   ]
  },
  {
   "cell_type": "markdown",
   "id": "db8988dc",
   "metadata": {},
   "source": [
    "### Load dataset of songs"
   ]
  },
  {
   "cell_type": "markdown",
   "id": "952450d4",
   "metadata": {},
   "source": [
    "Dataset: https://www.kaggle.com/datasets/rodolfofigueroa/spotify-12m-songs, an open source dataset on Kaggle. It provides nearly 1.2 million of songs in Spotify. Those songs were retreived by using Spotify API."
   ]
  },
  {
   "cell_type": "code",
   "execution_count": 2,
   "id": "5fa701bc",
   "metadata": {},
   "outputs": [
    {
     "name": "stdout",
     "output_type": "stream",
     "text": [
      "                       id                   name                      album  \\\n",
      "0  7lmeHLHBe4nmXzuXc0HDjk                Testify  The Battle Of Los Angeles   \n",
      "1  1wsRitfRRtWyEapl0q22o8        Guerrilla Radio  The Battle Of Los Angeles   \n",
      "2  1hR0fIFK2qRG3f3RF70pb7       Calm Like a Bomb  The Battle Of Los Angeles   \n",
      "3  2lbASgTSoDO7MTuLAXlTW0              Mic Check  The Battle Of Los Angeles   \n",
      "4  1MQTmpYOZ6fcMQc56Hdo7T  Sleep Now In the Fire  The Battle Of Los Angeles   \n",
      "\n",
      "                 album_id                       artists  \\\n",
      "0  2eia0myWFgoHuttJytCxgX  ['Rage Against The Machine']   \n",
      "1  2eia0myWFgoHuttJytCxgX  ['Rage Against The Machine']   \n",
      "2  2eia0myWFgoHuttJytCxgX  ['Rage Against The Machine']   \n",
      "3  2eia0myWFgoHuttJytCxgX  ['Rage Against The Machine']   \n",
      "4  2eia0myWFgoHuttJytCxgX  ['Rage Against The Machine']   \n",
      "\n",
      "                   artist_ids  track_number  disc_number  explicit  \\\n",
      "0  ['2d0hyoQ5ynDBnkvAbJKORj']             1            1     False   \n",
      "1  ['2d0hyoQ5ynDBnkvAbJKORj']             2            1      True   \n",
      "2  ['2d0hyoQ5ynDBnkvAbJKORj']             3            1     False   \n",
      "3  ['2d0hyoQ5ynDBnkvAbJKORj']             4            1      True   \n",
      "4  ['2d0hyoQ5ynDBnkvAbJKORj']             5            1     False   \n",
      "\n",
      "   danceability  ...  speechiness  acousticness  instrumentalness  liveness  \\\n",
      "0         0.470  ...       0.0727       0.02610          0.000011    0.3560   \n",
      "1         0.599  ...       0.1880       0.01290          0.000071    0.1550   \n",
      "2         0.315  ...       0.4830       0.02340          0.000002    0.1220   \n",
      "3         0.440  ...       0.2370       0.16300          0.000004    0.1210   \n",
      "4         0.426  ...       0.0701       0.00162          0.105000    0.0789   \n",
      "\n",
      "   valence    tempo  duration_ms  time_signature  year  release_date  \n",
      "0    0.503  117.906       210133             4.0  1999    1999-11-02  \n",
      "1    0.489  103.680       206200             4.0  1999    1999-11-02  \n",
      "2    0.370  149.749       298893             4.0  1999    1999-11-02  \n",
      "3    0.574   96.752       213640             4.0  1999    1999-11-02  \n",
      "4    0.539  127.059       205600             4.0  1999    1999-11-02  \n",
      "\n",
      "[5 rows x 24 columns]\n"
     ]
    }
   ],
   "source": [
    "file_path = '../tracks_features.csv'\n",
    "df = pd.read_csv(file_path)\n",
    "print(df.head())"
   ]
  },
  {
   "cell_type": "markdown",
   "id": "b8362903",
   "metadata": {},
   "source": [
    "### Preprocessing data"
   ]
  },
  {
   "cell_type": "markdown",
   "id": "b2faa3b7",
   "metadata": {},
   "source": [
    "We want to perform some operations to select the numeric audio features we want, and also convert those categorical values into numeric one to create the vector embeddings.\n",
    "The selected features includes:\n",
    "- id (not sure if we need this?)\n",
    "- name\n",
    "- artists\n",
    "- danceability\n",
    "- energy\n",
    "- key\n",
    "- loudness\n",
    "- mode\n",
    "- speechiness\n",
    "- acousticness\n",
    "- instrumentalness\n",
    "- liveness\n",
    "- valence\n",
    "- tempo\n",
    "- duration_ms\n",
    "- time_signature\n",
    "- year (do we want this?)"
   ]
  },
  {
   "cell_type": "code",
   "execution_count": 3,
   "id": "69fdde37",
   "metadata": {},
   "outputs": [
    {
     "name": "stdout",
     "output_type": "stream",
     "text": [
      "                       id                   name  \\\n",
      "0  7lmeHLHBe4nmXzuXc0HDjk                Testify   \n",
      "1  1wsRitfRRtWyEapl0q22o8        Guerrilla Radio   \n",
      "2  1hR0fIFK2qRG3f3RF70pb7       Calm Like a Bomb   \n",
      "3  2lbASgTSoDO7MTuLAXlTW0              Mic Check   \n",
      "4  1MQTmpYOZ6fcMQc56Hdo7T  Sleep Now In the Fire   \n",
      "\n",
      "                        artists  danceability  energy  key  loudness  mode  \\\n",
      "0  ['Rage Against The Machine']         0.470   0.978    7    -5.399     1   \n",
      "1  ['Rage Against The Machine']         0.599   0.957   11    -5.764     1   \n",
      "2  ['Rage Against The Machine']         0.315   0.970    7    -5.424     1   \n",
      "3  ['Rage Against The Machine']         0.440   0.967   11    -5.830     0   \n",
      "4  ['Rage Against The Machine']         0.426   0.929    2    -6.729     1   \n",
      "\n",
      "   speechiness  acousticness  instrumentalness  liveness  valence    tempo  \\\n",
      "0       0.0727       0.02610          0.000011    0.3560    0.503  117.906   \n",
      "1       0.1880       0.01290          0.000071    0.1550    0.489  103.680   \n",
      "2       0.4830       0.02340          0.000002    0.1220    0.370  149.749   \n",
      "3       0.2370       0.16300          0.000004    0.1210    0.574   96.752   \n",
      "4       0.0701       0.00162          0.105000    0.0789    0.539  127.059   \n",
      "\n",
      "   duration_ms  time_signature  year  \n",
      "0       210133             4.0  1999  \n",
      "1       206200             4.0  1999  \n",
      "2       298893             4.0  1999  \n",
      "3       213640             4.0  1999  \n",
      "4       205600             4.0  1999  \n"
     ]
    }
   ],
   "source": [
    "selected_features = df.drop(columns=[\"album\", \"album_id\", \"artist_ids\", \"track_number\", \"disc_number\", \"explicit\", \"release_date\"])\n",
    "print(selected_features.head())"
   ]
  },
  {
   "cell_type": "code",
   "execution_count": 4,
   "id": "8518fca1",
   "metadata": {},
   "outputs": [
    {
     "data": {
      "text/plain": [
       "id                  False\n",
       "name                 True\n",
       "artists             False\n",
       "danceability        False\n",
       "energy              False\n",
       "key                 False\n",
       "loudness            False\n",
       "mode                False\n",
       "speechiness         False\n",
       "acousticness        False\n",
       "instrumentalness    False\n",
       "liveness            False\n",
       "valence             False\n",
       "tempo               False\n",
       "duration_ms         False\n",
       "time_signature      False\n",
       "year                False\n",
       "dtype: bool"
      ]
     },
     "execution_count": 4,
     "metadata": {},
     "output_type": "execute_result"
    }
   ],
   "source": [
    "# check if our filted features contains any missing value\n",
    "selected_features.isna().any()"
   ]
  },
  {
   "cell_type": "markdown",
   "id": "24744a77",
   "metadata": {},
   "source": [
    "Some songs have multiple artists, we want to convert them from a list to string.\n",
    "Example: ['Pietro Locatelli', 'Capella Istropolitana', 'Jaroslav Krcek'] to 'Pietro Locatelli, Capella Istropolitana, Jaroslav Krcek'"
   ]
  },
  {
   "cell_type": "code",
   "execution_count": 5,
   "id": "dd0f0535",
   "metadata": {},
   "outputs": [
    {
     "data": {
      "text/plain": [
       "'Pietro Locatelli, Capella Istropolitana, Jaroslav Krcek'"
      ]
     },
     "execution_count": 5,
     "metadata": {},
     "output_type": "execute_result"
    }
   ],
   "source": [
    "def convert_artists_name(artists_list):\n",
    "    items_list = artists_list.strip(\"[]\").replace(\"'\", \"\").split(\", \")\n",
    "    return \", \".join(items_list)\n",
    "\n",
    "selected_features[\"artists\"] = selected_features[\"artists\"].apply(convert_artists_name)\n",
    "selected_features.iloc[1184][\"artists\"]"
   ]
  },
  {
   "cell_type": "code",
   "execution_count": 6,
   "id": "03c504d4",
   "metadata": {},
   "outputs": [
    {
     "name": "stdout",
     "output_type": "stream",
     "text": [
      "Shape before duplicated removal:  (1204025, 17)\n",
      "Shape after duplicated removal:  (1141555, 17)\n"
     ]
    }
   ],
   "source": [
    "# remove duplicated rows by song name and artists name\n",
    "print(\"Shape before duplicated removal: \", selected_features.shape)\n",
    "selected_features = selected_features.drop_duplicates(subset=['name', 'artists'])\n",
    "print(\"Shape after duplicated removal: \", selected_features.shape)"
   ]
  },
  {
   "cell_type": "code",
   "execution_count": 7,
   "id": "3a61573e",
   "metadata": {},
   "outputs": [
    {
     "name": "stdout",
     "output_type": "stream",
     "text": [
      "                       id                   name                   artists  \\\n",
      "0  7lmeHLHBe4nmXzuXc0HDjk                Testify  Rage Against The Machine   \n",
      "1  1wsRitfRRtWyEapl0q22o8        Guerrilla Radio  Rage Against The Machine   \n",
      "2  1hR0fIFK2qRG3f3RF70pb7       Calm Like a Bomb  Rage Against The Machine   \n",
      "3  2lbASgTSoDO7MTuLAXlTW0              Mic Check  Rage Against The Machine   \n",
      "4  1MQTmpYOZ6fcMQc56Hdo7T  Sleep Now In the Fire  Rage Against The Machine   \n",
      "\n",
      "   danceability  energy  key  loudness  mode  speechiness  acousticness  \\\n",
      "0         0.470   0.978    7    -5.399     1       0.0727       0.02610   \n",
      "1         0.599   0.957   11    -5.764     1       0.1880       0.01290   \n",
      "2         0.315   0.970    7    -5.424     1       0.4830       0.02340   \n",
      "3         0.440   0.967   11    -5.830     0       0.2370       0.16300   \n",
      "4         0.426   0.929    2    -6.729     1       0.0701       0.00162   \n",
      "\n",
      "   instrumentalness  liveness  valence    tempo  duration_ms  time_signature  \\\n",
      "0          0.000011    0.3560    0.503  117.906       210133             4.0   \n",
      "1          0.000071    0.1550    0.489  103.680       206200             4.0   \n",
      "2          0.000002    0.1220    0.370  149.749       298893             4.0   \n",
      "3          0.000004    0.1210    0.574   96.752       213640             4.0   \n",
      "4          0.105000    0.0789    0.539  127.059       205600             4.0   \n",
      "\n",
      "   year  \n",
      "0  1999  \n",
      "1  1999  \n",
      "2  1999  \n",
      "3  1999  \n",
      "4  1999  \n",
      "                             id                  name  artists  danceability  \\\n",
      "1204020  0EsMifwUmMfJZxzoMPXJKZ        Gospel of Juke  FVLCRVM         0.264   \n",
      "1204021  2WSc2TB1CSJgGE0PEzVeiu         Prism Visions  FVLCRVM         0.796   \n",
      "1204022  6iProIgUe3ETpO6UT0v5Hg             Tokyo 360  FVLCRVM         0.785   \n",
      "1204023  37B4SXC8uoBsUyKCWnhPfX                Yummy!  FVLCRVM         0.665   \n",
      "1204024  3GgQmOxxLyRoAb4j86zOBX  That's The Way It Is  FVLCRVM         0.736   \n",
      "\n",
      "         energy  key  loudness  mode  speechiness  acousticness  \\\n",
      "1204020   0.966    5    -6.970     0       0.0672       0.00935   \n",
      "1204021   0.701   11    -6.602     0       0.0883       0.10400   \n",
      "1204022   0.796    9    -5.960     0       0.0564       0.03040   \n",
      "1204023   0.856    6    -6.788     0       0.0409       0.00007   \n",
      "1204024   0.708    2    -9.279     0       0.0539       0.01680   \n",
      "\n",
      "         instrumentalness  liveness  valence    tempo  duration_ms  \\\n",
      "1204020           0.00224    0.3370    0.415  159.586       276213   \n",
      "1204021           0.64400    0.0749    0.781  121.980       363179   \n",
      "1204022           0.91800    0.0664    0.467  121.996       385335   \n",
      "1204023           0.77600    0.1170    0.227  124.986       324455   \n",
      "1204024           0.29600    0.2790    0.204  117.991       304982   \n",
      "\n",
      "         time_signature  year  \n",
      "1204020             4.0  2014  \n",
      "1204021             4.0  2014  \n",
      "1204022             4.0  2014  \n",
      "1204023             4.0  2014  \n",
      "1204024             4.0  2014  \n"
     ]
    }
   ],
   "source": [
    "print(selected_features.head())\n",
    "print(selected_features.tail())"
   ]
  },
  {
   "cell_type": "markdown",
   "id": "a4d55eab",
   "metadata": {},
   "source": [
    "### Create vectors/embeddings"
   ]
  },
  {
   "cell_type": "markdown",
   "id": "06ea7fff",
   "metadata": {},
   "source": [
    "We first need to convert those song and artists name into vector. The converted vector representation will have length of 14, so we can combine these with 14 numeric column values. We will combine the song name with artists name to one column for better tokenize"
   ]
  },
  {
   "cell_type": "code",
   "execution_count": 8,
   "id": "5d681e82",
   "metadata": {},
   "outputs": [
    {
     "name": "stdout",
     "output_type": "stream",
     "text": [
      "                       id  danceability  energy  key  loudness  mode  \\\n",
      "0  7lmeHLHBe4nmXzuXc0HDjk         0.470   0.978    7    -5.399     1   \n",
      "1  1wsRitfRRtWyEapl0q22o8         0.599   0.957   11    -5.764     1   \n",
      "2  1hR0fIFK2qRG3f3RF70pb7         0.315   0.970    7    -5.424     1   \n",
      "3  2lbASgTSoDO7MTuLAXlTW0         0.440   0.967   11    -5.830     0   \n",
      "4  1MQTmpYOZ6fcMQc56Hdo7T         0.426   0.929    2    -6.729     1   \n",
      "\n",
      "   speechiness  acousticness  instrumentalness  liveness  valence    tempo  \\\n",
      "0       0.0727       0.02610          0.000011    0.3560    0.503  117.906   \n",
      "1       0.1880       0.01290          0.000071    0.1550    0.489  103.680   \n",
      "2       0.4830       0.02340          0.000002    0.1220    0.370  149.749   \n",
      "3       0.2370       0.16300          0.000004    0.1210    0.574   96.752   \n",
      "4       0.0701       0.00162          0.105000    0.0789    0.539  127.059   \n",
      "\n",
      "   duration_ms  time_signature  year  \\\n",
      "0       210133             4.0  1999   \n",
      "1       206200             4.0  1999   \n",
      "2       298893             4.0  1999   \n",
      "3       213640             4.0  1999   \n",
      "4       205600             4.0  1999   \n",
      "\n",
      "                                     string_summary  \n",
      "0                Testify - Rage Against The Machine  \n",
      "1        Guerrilla Radio - Rage Against The Machine  \n",
      "2       Calm Like a Bomb - Rage Against The Machine  \n",
      "3              Mic Check - Rage Against The Machine  \n",
      "4  Sleep Now In the Fire - Rage Against The Machine  \n"
     ]
    }
   ],
   "source": [
    "selected_features['string_summary'] = selected_features['name'] + ' - ' + selected_features['artists']\n",
    "selected_features['string_summary'] = selected_features['string_summary'].astype(str)\n",
    "\n",
    "# Drop the original 'name' and 'artists' columns\n",
    "selected_features.drop(['name', 'artists'], axis=1, inplace=True)\n",
    "print(selected_features.head())"
   ]
  },
  {
   "cell_type": "code",
   "execution_count": 9,
   "id": "202468e6",
   "metadata": {},
   "outputs": [],
   "source": [
    "# Convert string summaries to lowercase and then tokenize\n",
    "selected_features['tokenized_summary'] = selected_features['string_summary'].apply(lambda x: word_tokenize(x.lower()))"
   ]
  },
  {
   "cell_type": "code",
   "execution_count": 10,
   "id": "27586101",
   "metadata": {},
   "outputs": [],
   "source": [
    "# Define Word2Vec model parameters (may adjust later)\n",
    "vector_size = 14\n",
    "window_size = 5\n",
    "min_count = 1\n",
    "\n",
    "# Train Word2Vec model\n",
    "word2vec_model = Word2Vec(selected_features['tokenized_summary'], vector_size=vector_size, window=window_size, min_count=min_count)"
   ]
  },
  {
   "cell_type": "code",
   "execution_count": 11,
   "id": "c492dde7",
   "metadata": {},
   "outputs": [],
   "source": [
    "# Convert string summaries to vectors\n",
    "def get_summary_vector(summary, model):\n",
    "    summary_vector = [model.wv[word] for word in summary if word in model.wv]\n",
    "    return sum(summary_vector) / len(summary_vector) if summary_vector else [0] * vector_size\n",
    "\n",
    "summary_vector = selected_features['tokenized_summary'].apply(lambda x: get_summary_vector(x, word2vec_model))"
   ]
  },
  {
   "cell_type": "code",
   "execution_count": 12,
   "id": "f182fcca",
   "metadata": {},
   "outputs": [
    {
     "name": "stdout",
     "output_type": "stream",
     "text": [
      "[-1.4271774  -0.03569482 -1.4224687  -0.30498803  1.6186962   1.0922139\n",
      " -0.29048076  0.2500786  -0.44903776 -1.1465993  -0.6184953   0.39508137\n",
      " -3.07173     2.404003  ]\n"
     ]
    }
   ],
   "source": [
    "selected_features.drop(['string_summary', 'tokenized_summary'], axis=1, inplace=True)\n",
    "print(summary_vector[0])"
   ]
  },
  {
   "cell_type": "markdown",
   "id": "090f23d1",
   "metadata": {},
   "source": [
    "The numerical columns are audio characteristics of the song, and we want to scale all the values to make it become the embeddings."
   ]
  },
  {
   "cell_type": "code",
   "execution_count": 13,
   "id": "4c4d0240",
   "metadata": {},
   "outputs": [
    {
     "name": "stdout",
     "output_type": "stream",
     "text": [
      "[-0.11476022  1.59348117  0.51038804  0.9231026   0.70123154 -0.10405628\n",
      " -1.0974239  -0.76136317  0.8647423   0.28528598  0.01103847 -0.23857505\n",
      "  0.30032139 -0.70179981]\n"
     ]
    }
   ],
   "source": [
    "# Extract the numeric columns (excluding 'id' and 'summary_vector')\n",
    "numeric_columns = selected_features.drop(['id'], axis=1)\n",
    "\n",
    "# Standardize the numeric columns\n",
    "scaler = StandardScaler()\n",
    "scaled_data = scaler.fit_transform(numeric_columns)\n",
    "\n",
    "# Display the resulting DataFrame\n",
    "print(scaled_data[0])"
   ]
  },
  {
   "cell_type": "markdown",
   "id": "ce7d7421",
   "metadata": {},
   "source": [
    "Finally, we want to merge those summary vector (name & artisits) with scaled vector (audio charactersitcs) to make the embeddings for each song."
   ]
  },
  {
   "cell_type": "code",
   "execution_count": 25,
   "id": "141ad0d3",
   "metadata": {},
   "outputs": [
    {
     "name": "stdout",
     "output_type": "stream",
     "text": [
      "[-1.42717743 -0.03569482 -1.42246866 -0.30498803  1.61869621  1.09221387\n",
      " -0.29048076  0.25007859 -0.44903776 -1.14659929 -0.61849529  0.39508137\n",
      " -3.0717299   2.4040029  -0.11476022  1.59348117  0.51038804  0.9231026\n",
      "  0.70123154 -0.10405628 -1.0974239  -0.76136317  0.8647423   0.28528598\n",
      "  0.01103847 -0.23857505  0.30032139 -0.70179981]\n",
      "1141555 ,  28\n"
     ]
    }
   ],
   "source": [
    "song_embeddings = [\n",
    "    np.concatenate([summary_row, scaled_row])\n",
    "    for summary_row, scaled_row in zip(summary_vector, scaled_data)\n",
    "]\n",
    "print(song_embeddings[0])\n",
    "print(len(song_embeddings), \", \", len(song_embeddings[0]))"
   ]
  },
  {
   "cell_type": "markdown",
   "id": "c0889aa5",
   "metadata": {},
   "source": [
    "Combining those things into our final table for uploading to Pinecone. The table should have two columns, one is id, and another one is song embeddings representation."
   ]
  },
  {
   "cell_type": "code",
   "execution_count": 30,
   "id": "a0a48f92",
   "metadata": {},
   "outputs": [
    {
     "name": "stdout",
     "output_type": "stream",
     "text": [
      "                       id                                    song_embeddings\n",
      "0  7lmeHLHBe4nmXzuXc0HDjk  [-1.4271774291992188, -0.03569481894373894, -1...\n",
      "1  1wsRitfRRtWyEapl0q22o8  [-1.0679484605789185, -0.0033303499221801758, ...\n",
      "2  1hR0fIFK2qRG3f3RF70pb7  [-1.103868007659912, 0.22797372937202454, -1.9...\n",
      "3  2lbASgTSoDO7MTuLAXlTW0  [-1.2852662801742554, -0.1682312786579132, -1....\n",
      "4  1MQTmpYOZ6fcMQc56Hdo7T  [-1.3810672760009766, -0.5420541763305664, -1....\n",
      "(1141555, 2)\n"
     ]
    }
   ],
   "source": [
    "embedded_features = selected_features[[\"id\"]].copy()\n",
    "embedded_features.loc[:, \"song_embeddings\"] = song_embeddings\n",
    "print(embedded_features.head())\n",
    "print(embedded_features.shape)"
   ]
  },
  {
   "cell_type": "markdown",
   "id": "2a4cd386",
   "metadata": {},
   "source": [
    "### Store embeddings to Pinecone"
   ]
  },
  {
   "cell_type": "markdown",
   "id": "727237e1",
   "metadata": {},
   "source": [
    "### Search for similar songs"
   ]
  },
  {
   "cell_type": "markdown",
   "id": "57a6e0c9",
   "metadata": {},
   "source": [
    "1. Our personal favofite song (feed 1 get top 10)\n",
    "2. Our listening history (feed 10 get top 10)\n",
    "3. Spotify 2023 top 100 song (most streamed 1 get 10 top)\n",
    "4. Spotify 2023 topp 100 song (feed 10 get top 10)\n",
    "\n",
    "Pinecone search metric "
   ]
  }
 ],
 "metadata": {
  "kernelspec": {
   "display_name": "COS597A",
   "language": "python",
   "name": "cos597a"
  },
  "language_info": {
   "codemirror_mode": {
    "name": "ipython",
    "version": 3
   },
   "file_extension": ".py",
   "mimetype": "text/x-python",
   "name": "python",
   "nbconvert_exporter": "python",
   "pygments_lexer": "ipython3",
   "version": "3.8.18"
  }
 },
 "nbformat": 4,
 "nbformat_minor": 5
}
